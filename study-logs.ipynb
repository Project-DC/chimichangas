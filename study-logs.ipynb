{
 "cells": [
  {
   "cell_type": "code",
   "execution_count": 1,
   "metadata": {},
   "outputs": [],
   "source": [
    "import numpy as np\n",
    "import os"
   ]
  },
  {
   "cell_type": "code",
   "execution_count": 2,
   "metadata": {},
   "outputs": [],
   "source": [
    "path = \"Players_Data_test_state_10k\""
   ]
  },
  {
   "cell_type": "code",
   "execution_count": 16,
   "metadata": {},
   "outputs": [],
   "source": [
    "def study(filename):\n",
    "    global path\n",
    "    \n",
    "    logs = np.load(os.path.join(path, filename), allow_pickle=True)\n",
    "    \n",
    "    for log in logs:\n",
    "        if(len(log) > 2):\n",
    "            print(\"Time:\", log[1], end=\" -> \")\n",
    "        print(log)\n",
    "        print()"
   ]
  },
  {
   "cell_type": "code",
   "execution_count": 17,
   "metadata": {},
   "outputs": [
    {
     "name": "stdout",
     "output_type": "stream",
     "text": [
      "[888, 318]\n",
      "\n",
      "[19 42]\n",
      "\n",
      "Time: 53 -> [10 53 -20 199 -1 array(-1) 888 318\n",
      " array([array([-25, -95, -32, -56], dtype=object),\n",
      "       array([55, -65, 1], dtype=object)], dtype=object)]\n",
      "\n",
      "Time: 54 -> [10 54 -20 198 -1 array(-1) 888 318\n",
      " array([array([-25, -95, -32, -56], dtype=object),\n",
      "       array([55, -65, 1], dtype=object)], dtype=object)]\n",
      "\n",
      "Time: 55 -> [10 55 -20 197 -1 array(-1) 888 318\n",
      " array([array([-25, -95, -32, -56], dtype=object),\n",
      "       array([55, -65, 1], dtype=object)], dtype=object)]\n",
      "\n",
      "Time: 56 -> [10 56 -20 196 -1 array(-1) 888 318\n",
      " array([array([-25, -95, -32, -56], dtype=object),\n",
      "       array([55, -65, 1], dtype=object)], dtype=object)]\n",
      "\n",
      "Time: 57 -> [10 57 -20 195 -1 array(-1) 888 318\n",
      " array([array([-25, -95, -32, -56], dtype=object),\n",
      "       array([55, -65, 1], dtype=object)], dtype=object)]\n",
      "\n",
      "Time: 58 -> [10 58 -20 194 -1 array(-1) 888 318\n",
      " array([array([-25, -95, -32, -56], dtype=object),\n",
      "       array([55, -65, 1], dtype=object)], dtype=object)]\n",
      "\n",
      "Time: 59 -> [10 59 -20 193 -1 array(-1) 888 318\n",
      " array([array([-25, -95, -32, -56], dtype=object),\n",
      "       array([55, -65, 1], dtype=object)], dtype=object)]\n",
      "\n",
      "Time: 60 -> [10 60 -20 192 -1 array(-1) 888 318\n",
      " array([array([-25, -95, -32, -56], dtype=object),\n",
      "       array([55, -65, 1], dtype=object)], dtype=object)]\n",
      "\n",
      "Time: 61 -> [10 61 -20 191 -1 array(-1) 888 318\n",
      " array([array([-25, -95, -32, -56], dtype=object),\n",
      "       array([55, -65, 1], dtype=object)], dtype=object)]\n",
      "\n",
      "Time: 62 -> [10 62 1 191 8 array([74, 75, 76, 77, 78, 79, 80, 81]) 888 318\n",
      " array([array([-25, -95, -32, -56], dtype=object),\n",
      "       array([97, 15, 1, 41, 87, 1], dtype=object)], dtype=object)]\n",
      "\n"
     ]
    }
   ],
   "source": [
    "study(\"52-39.npy\")"
   ]
  },
  {
   "cell_type": "markdown",
   "metadata": {},
   "source": [
    "# "
   ]
  }
 ],
 "metadata": {
  "kernelspec": {
   "display_name": "Python 3",
   "language": "python",
   "name": "python3"
  },
  "language_info": {
   "codemirror_mode": {
    "name": "ipython",
    "version": 3
   },
   "file_extension": ".py",
   "mimetype": "text/x-python",
   "name": "python",
   "nbconvert_exporter": "python",
   "pygments_lexer": "ipython3",
   "version": "3.8.3"
  }
 },
 "nbformat": 4,
 "nbformat_minor": 4
}
