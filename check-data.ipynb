{
 "cells": [
  {
   "cell_type": "code",
   "execution_count": 1,
   "metadata": {},
   "outputs": [],
   "source": [
    "import numpy as np\n",
    "import glob"
   ]
  },
  {
   "cell_type": "code",
   "execution_count": 2,
   "metadata": {},
   "outputs": [],
   "source": [
    "files = glob.glob('Players_Data/*.npy')"
   ]
  },
  {
   "cell_type": "code",
   "execution_count": 3,
   "metadata": {},
   "outputs": [
    {
     "data": {
      "text/plain": [
       "18"
      ]
     },
     "execution_count": 3,
     "metadata": {},
     "output_type": "execute_result"
    }
   ],
   "source": [
    "len(files)"
   ]
  },
  {
   "cell_type": "code",
   "execution_count": 10,
   "metadata": {},
   "outputs": [],
   "source": [
    "def load_npy(file):\n",
    "    arr = np.load(file, allow_pickle=True)\n",
    "    for x in arr:\n",
    "        print(x)"
   ]
  },
  {
   "cell_type": "code",
   "execution_count": 11,
   "metadata": {},
   "outputs": [
    {
     "name": "stdout",
     "output_type": "stream",
     "text": [
      "[197, 626]\n",
      "[2 0 -2 195 197 623\n",
      " array([array([39, 63, 78, 70]), array([ -9,  -8, -12,  97,   1,   2])],\n",
      "      dtype=object)]\n",
      "[4 1 -2 185 194 620\n",
      " array([array([39, 63, 75, 67]), array([ -6,  -8, -18,  97,   1,   2])],\n",
      "      dtype=object)]\n",
      "[4 2 -2 175 191 617\n",
      " array([array([36, 60, 72, 64]), array([ -9,  -8, -21,  94,   1,   2])],\n",
      "      dtype=object)]\n",
      "[4 3 -2 165 188 614\n",
      " array([array([33, 57, 69, 61]), array([-15, -14, -24,  88,   1,   2])],\n",
      "      dtype=object)]\n",
      "[4 4 -2 155 185 611\n",
      " array([array([30, 54, 66, 58]), array([-21, -14, -27,  85,   1,   2])],\n",
      "      dtype=object)]\n",
      "[4 5 -2 145 182 608\n",
      " array([array([27, 51, 63, 55]), array([-24, -20, -30,  79,   1,   2])],\n",
      "      dtype=object)]\n",
      "[4 6 -2 135 179 605\n",
      " array([array([24, 48, 60, 52]), array([-30, -20, -33,  76,   1,   2])],\n",
      "      dtype=object)]\n",
      "[4 7 -2 125 176 602\n",
      " array([[ 74,  21,  45,  61,  57,  49],\n",
      "       [-36, -26, -36,  70,   1,   2]])]\n",
      "[4 8 -2 115 173 599\n",
      " array([[ 71,  18,  42,  58,  54,  46],\n",
      "       [-42, -26, -39,  67,   1,   2]])]\n",
      "[4 9 -2 105 170 596\n",
      " array([[ 68,  15,  39,  55,  51,  43],\n",
      "       [-48, -32, -42,  61,   1,   2]])]\n",
      "[1 10 -2 100 173 596\n",
      " array([[ 65,  12,  36,  52,  48,  40],\n",
      "       [-54, -32, -45,  58,   1,   2]])]\n",
      "[4 11 -2 90 170 593\n",
      " array([array([68, 15, 39, 52, 48, 40]), array([-26,  58,   2])],\n",
      "      dtype=object)]\n",
      "[4 12 -2 80 167 590\n",
      " array([array([-11,  65,  12,  36,  98,  49,  45,  37]),\n",
      "       array([-32,  55,   2])], dtype=object)]\n",
      "[4 13 -2 70 164 587\n",
      " array([array([-14,  62,   9,  33,  95,  46,  42,  34]),\n",
      "       array([-38,  52,   2])], dtype=object)]\n",
      "[4 14 -2 60 161 584\n",
      " array([array([-17,  59,   6,  30,  92,  43,  39,  31]),\n",
      "       array([-38,  52,   2])], dtype=object)]\n",
      "[4 15 -2 50 158 581\n",
      " array([array([-20,  56,   3,  27,  89,  40,  36,  28]),\n",
      "       array([-44,  49,   2])], dtype=object)]\n",
      "[4 16 -2 40 155 578\n",
      " array([array([-23,  53,   0,  24,  86,  37,  33,  25]),\n",
      "       array([-44,  49,   2])], dtype=object)]\n",
      "[4 17 -2 30 152 575\n",
      " array([array([-26,  50,  -3,  21,  83,  34,  30,  22]),\n",
      "       array([-50,  46,   2])], dtype=object)]\n",
      "[4 18 -2 20 149 572\n",
      " array([array([-29,  47,  -6,  18,  80,  31,  27,  19]),\n",
      "       array([-50,  46,   2])], dtype=object)]\n",
      "[4 19 -2 10 146 569\n",
      " array([array([ 98, -32,  44,  -9,  15, -16,  77,  28,  24,  16]),\n",
      "       array([-53,  43,   2])], dtype=object)]\n",
      "[8 20 -50 8 146 569\n",
      " array([array([ 95, -35,  41, -12,  12, -19,  74,  25,  21,  13]),\n",
      "       array([-56,  37,   2])], dtype=object)]\n",
      "[6 21 -2 -2 143 572\n",
      " array([array([ 95, -35,  41, -12,  12, -19,  74,  25,  21,  13]),\n",
      "       array([-59,  37,   2])], dtype=object)]\n"
     ]
    }
   ],
   "source": [
    "load_npy(files[1])"
   ]
  },
  {
   "cell_type": "code",
   "execution_count": null,
   "metadata": {},
   "outputs": [],
   "source": []
  }
 ],
 "metadata": {
  "kernelspec": {
   "display_name": "Python 3",
   "language": "python",
   "name": "python3"
  },
  "language_info": {
   "codemirror_mode": {
    "name": "ipython",
    "version": 3
   },
   "file_extension": ".py",
   "mimetype": "text/x-python",
   "name": "python",
   "nbconvert_exporter": "python",
   "pygments_lexer": "ipython3",
   "version": "3.7.4"
  }
 },
 "nbformat": 4,
 "nbformat_minor": 2
}
