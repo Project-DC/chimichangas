{
 "cells": [
  {
   "cell_type": "code",
   "execution_count": 1,
   "metadata": {},
   "outputs": [],
   "source": [
    "import numpy as np\n",
    "import glob"
   ]
  },
  {
   "cell_type": "code",
   "execution_count": 2,
   "metadata": {},
   "outputs": [],
   "source": [
    "files = glob.glob('Players_Data/*.npy')"
   ]
  },
  {
   "cell_type": "code",
   "execution_count": 3,
   "metadata": {},
   "outputs": [
    {
     "data": {
      "text/plain": [
       "18"
      ]
     },
     "execution_count": 3,
     "metadata": {},
     "output_type": "execute_result"
    }
   ],
   "source": [
    "len(files)"
   ]
  },
  {
   "cell_type": "code",
   "execution_count": 10,
   "metadata": {},
   "outputs": [],
   "source": [
    "def load_npy(file):\n",
    "    arr = np.load(file, allow_pickle=True)\n",
    "    for x in arr:\n",
    "        print(x)"
   ]
  },
  {
   "cell_type": "code",
   "execution_count": 13,
   "metadata": {},
   "outputs": [
    {
     "name": "stdout",
     "output_type": "stream",
     "text": [
      "[150, 311]\n",
      "[5 0 -2 190 153 308\n",
      " array([array([-41,  14, -59,  43]), array([0, 0, 0])], dtype=object)]\n",
      "[7 1 -2 180 156 311\n",
      " array([array([-38,  17, -62,  40]), array([0, 0, 0])], dtype=object)]\n",
      "[7 2 -2 170 159 314\n",
      " array([array([-35,  20, -59,  43]), array([0, 0, 0])], dtype=object)]\n",
      "[7 3 -2 160 162 317\n",
      " array([array([-32,  23, -56,  46]), array([0, 0, 0])], dtype=object)]\n",
      "[7 4 -2 150 165 320\n",
      " array([array([-29,  26, -53,  49]), array([0, 0, 0])], dtype=object)]\n",
      "[7 5 -2 140 168 323\n",
      " array([array([-26,  29, -50,  52]), array([0, 0, 0])], dtype=object)]\n",
      "[7 6 -2 130 171 326\n",
      " array([array([-23,  32, -47,  55]), array([0, 0, 0])], dtype=object)]\n",
      "[7 7 -2 120 174 329\n",
      " array([array([-20,  35, -44,  58]), array([0, 0, 0])], dtype=object)]\n",
      "[7 8 -2 110 177 332\n",
      " array([array([-17,  38, -41,  61]), array([0, 0, 0])], dtype=object)]\n",
      "[7 9 -2 100 180 335\n",
      " array([array([-14,  41, -38,  64]), array([0, 0, 0])], dtype=object)]\n",
      "[7 10 -2 90 183 338\n",
      " array([array([-11,  44, -35,  67]), array([23, 30,  2])], dtype=object)]\n",
      "[7 11 -2 80 186 341\n",
      " array([array([-91,  -8,  47, -36, -32,  70]), array([29, 33,  2])],\n",
      "      dtype=object)]\n",
      "[6 12 -2 70 183 344\n",
      " array([array([-88,  -5,  50, -33, -29,  73]), array([32, 36,  2])],\n",
      "      dtype=object)]\n",
      "[6 13 -2 60 180 347\n",
      " array([array([-91,  -8,  47, -30, -26,  76]), array([29, 39,  2])],\n",
      "      dtype=object)]\n",
      "[6 14 -2 50 177 350\n",
      " array([array([-94, -11,  44, -27, -23,  79]), array([26, 42,  2])],\n",
      "      dtype=object)]\n",
      "[6 15 -2 40 174 353\n",
      " array([array([ 91, -97, -14,  41, -39, -24, -20,  82]),\n",
      "       array([23, 45,  2])], dtype=object)]\n",
      "[6 16 -2 30 171 356\n",
      " array([array([ 88, -17,  38, -36, -17,  85]), array([20, 48,  2])],\n",
      "      dtype=object)]\n",
      "[6 17 -2 20 168 359\n",
      " array([array([ 85, -20,  35, -33, -14,  88]), array([17, 51,  2])],\n",
      "      dtype=object)]\n",
      "[6 18 -2 10 165 362\n",
      " array([array([ 82, -23,  32, -30, -11,  91]), array([14, 54,  2])],\n",
      "      dtype=object)]\n",
      "[6 19 -2 0 162 365\n",
      " array([array([ 79, -26,  29, -27,  -8,  94]), array([11, 57,  2])],\n",
      "      dtype=object)]\n"
     ]
    }
   ],
   "source": [
    "load_npy(files[3])"
   ]
  },
  {
   "cell_type": "code",
   "execution_count": null,
   "metadata": {},
   "outputs": [],
   "source": []
  }
 ],
 "metadata": {
  "kernelspec": {
   "display_name": "Python 3",
   "language": "python",
   "name": "python3"
  },
  "language_info": {
   "codemirror_mode": {
    "name": "ipython",
    "version": 3
   },
   "file_extension": ".py",
   "mimetype": "text/x-python",
   "name": "python",
   "nbconvert_exporter": "python",
   "pygments_lexer": "ipython3",
   "version": "3.7.4"
  }
 },
 "nbformat": 4,
 "nbformat_minor": 2
}
