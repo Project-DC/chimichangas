{
 "cells": [
  {
   "cell_type": "code",
   "execution_count": 1,
   "metadata": {},
   "outputs": [
    {
     "name": "stdout",
     "output_type": "stream",
     "text": [
      "pygame 2.0.0.dev10 (SDL 2.0.12, python 3.8.3)\n",
      "Hello from the pygame community. https://www.pygame.org/contribute.html\n"
     ]
    }
   ],
   "source": [
    "from pygeneses.envs.prima_vita import PrimaVita"
   ]
  },
  {
   "cell_type": "code",
   "execution_count": 2,
   "metadata": {},
   "outputs": [],
   "source": [
    "params_dic = {\"model_updates\": 5, \"initial_population\": 10}\n",
    "\n",
    "model = PrimaVita(log_dir_info=\"random\", params_dic=params_dic, mode=\"human\")"
   ]
  },
  {
   "cell_type": "code",
   "execution_count": 3,
   "metadata": {
    "scrolled": true
   },
   "outputs": [
    {
     "name": "stdout",
     "output_type": "stream",
     "text": [
      "RIP 0-0, alive count = 10\n",
      "RIP 0-1, alive count = 10\n",
      "RIP 0-2, alive count = 10\n",
      "RIP 0-3, alive count = 10\n",
      "RIP 0-4, alive count = 10\n",
      "RIP 0-5, alive count = 10\n",
      "RIP 0-6, alive count = 10\n",
      "RIP 0-7, alive count = 10\n",
      "RIP 0-8, alive count = 10\n",
      "RIP 0-9, alive count = 10\n"
     ]
    }
   ],
   "source": [
    "model.run(stop_at=6000)"
   ]
  },
  {
   "cell_type": "code",
   "execution_count": null,
   "metadata": {},
   "outputs": [],
   "source": []
  }
 ],
 "metadata": {
  "kernelspec": {
   "display_name": "Python 3",
   "language": "python",
   "name": "python3"
  },
  "language_info": {
   "codemirror_mode": {
    "name": "ipython",
    "version": 3
   },
   "file_extension": ".py",
   "mimetype": "text/x-python",
   "name": "python",
   "nbconvert_exporter": "python",
   "pygments_lexer": "ipython3",
   "version": "3.8.3"
  }
 },
 "nbformat": 4,
 "nbformat_minor": 4
}
