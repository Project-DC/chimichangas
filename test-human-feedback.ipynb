{
 "cells": [
  {
   "cell_type": "markdown",
   "metadata": {},
   "source": [
    "# Train till stop_at 300"
   ]
  },
  {
   "cell_type": "code",
   "execution_count": 1,
   "metadata": {},
   "outputs": [
    {
     "name": "stdout",
     "output_type": "stream",
     "text": [
      "pygame 2.0.0.dev10 (SDL 2.0.12, python 3.8.3)\n",
      "Hello from the pygame community. https://www.pygame.org/contribute.html\n"
     ]
    }
   ],
   "source": [
    "from pygeneses.envs.prima_vita import PrimaVita"
   ]
  },
  {
   "cell_type": "code",
   "execution_count": 2,
   "metadata": {},
   "outputs": [],
   "source": [
    "params_dic = {\"model_updates\": 5, \"initial_population\": 10, \"max_allowed_population\": 20, \"speed\": 10}\n",
    "\n",
    "model = PrimaVita(log_dir_info=\"new_loss\", params_dic=params_dic, mode=\"human\")"
   ]
  },
  {
   "cell_type": "code",
   "execution_count": 3,
   "metadata": {
    "scrolled": true
   },
   "outputs": [
    {
     "name": "stdout",
     "output_type": "stream",
     "text": [
      "RIP 0-4, alive count = 10\n",
      "RIP 10-13, alive count = 17\n",
      "RIP 10-16, alive count = 20\n",
      "Max population exceeded! Number of people to be killed: 6\n",
      "RIP 10-17, alive count = 25\n",
      "RIP 10-11, alive count = 24\n",
      "RIP 0-6, alive count = 23\n",
      "RIP 20-26, alive count = 22\n",
      "RIP 20-27, alive count = 21\n",
      "RIP 10-12, alive count = 20\n",
      "A rebel is born at 35 with index 34\n",
      "RIP 0-2, alive count = 20\n",
      "Max population exceeded! Number of people to be killed: 7\n",
      "RIP 20-19, alive count = 26\n",
      "RIP 35-29, alive count = 25\n",
      "RIP 20-28, alive count = 24\n",
      "RIP 0-3, alive count = 23\n",
      "RIP 10-15, alive count = 22\n",
      "RIP 10-14, alive count = 21\n",
      "RIP 35-32, alive count = 20\n",
      "RIP 0-9, alive count = 20\n",
      "Max population exceeded! Number of people to be killed: 3\n",
      "RIP 10-10, alive count = 22\n",
      "RIP 35-31, alive count = 21\n",
      "RIP 20-24, alive count = 20\n",
      "RIP 35-36, alive count = 20\n",
      "Max population exceeded! Number of people to be killed: 3\n",
      "RIP 0-1, alive count = 22\n",
      "RIP 0-7, alive count = 21\n",
      "RIP 20-25, alive count = 20\n",
      "A rebel is born at 69 with index 50\n",
      "RIP 35-33, alive count = 20\n",
      "Max population exceeded! Number of people to be killed: 7\n",
      "RIP 69-45, alive count = 26\n",
      "RIP 35-34, alive count = 25\n",
      "RIP 35-35, alive count = 24\n",
      "RIP 69-48, alive count = 23\n",
      "RIP 50-38, alive count = 22\n",
      "RIP 65-43, alive count = 21\n",
      "RIP 69-51, alive count = 20\n",
      "RIP 35-30, alive count = 20\n",
      "Max population exceeded! Number of people to be killed: 6\n",
      "RIP 50-39, alive count = 25\n",
      "RIP 85-56, alive count = 24\n",
      "RIP 85-57, alive count = 23\n",
      "RIP 85-53, alive count = 22\n",
      "RIP 20-23, alive count = 21\n",
      "RIP 85-58, alive count = 20\n",
      "RIP 0-5, alive count = 20\n",
      "RIP 0-8, alive count = 20\n",
      "RIP 20-18, alive count = 18\n",
      "RIP 20-20, alive count = 18\n",
      "RIP 20-21, alive count = 18\n",
      "RIP 20-22, alive count = 18\n",
      "RIP 50-37, alive count = 14\n",
      "RIP 50-40, alive count = 14\n",
      "RIP 65-41, alive count = 12\n",
      "RIP 65-42, alive count = 12\n",
      "RIP 65-44, alive count = 12\n",
      "RIP 69-46, alive count = 9\n",
      "RIP 69-47, alive count = 9\n",
      "RIP 69-49, alive count = 9\n",
      "RIP 69-50, alive count = 9\n",
      "RIP 69-52, alive count = 9\n",
      "RIP 85-54, alive count = 4\n",
      "RIP 85-55, alive count = 4\n",
      "RIP 85-59, alive count = 4\n"
     ]
    },
    {
     "ename": "IndexError",
     "evalue": "index 60 is out of bounds for axis 0 with size 60",
     "output_type": "error",
     "traceback": [
      "\u001b[0;31m---------------------------------------------------------------------------\u001b[0m",
      "\u001b[0;31mIndexError\u001b[0m                                Traceback (most recent call last)",
      "\u001b[0;32m<ipython-input-3-12594418d87e>\u001b[0m in \u001b[0;36m<module>\u001b[0;34m\u001b[0m\n\u001b[0;32m----> 1\u001b[0;31m \u001b[0mmodel\u001b[0m\u001b[0;34m.\u001b[0m\u001b[0mrun\u001b[0m\u001b[0;34m(\u001b[0m\u001b[0mstop_at\u001b[0m\u001b[0;34m=\u001b[0m\u001b[0;36m1000\u001b[0m\u001b[0;34m)\u001b[0m\u001b[0;34m\u001b[0m\u001b[0;34m\u001b[0m\u001b[0m\n\u001b[0m",
      "\u001b[0;32m~/Documents/work/projects/project-dc/pygeneses/pygeneses/envs/prima_vita/prima_vita.py\u001b[0m in \u001b[0;36mrun\u001b[0;34m(self, stop_at)\u001b[0m\n\u001b[1;32m    456\u001b[0m             \u001b[0;32mwhile\u001b[0m \u001b[0;32mTrue\u001b[0m\u001b[0;34m:\u001b[0m\u001b[0;34m\u001b[0m\u001b[0;34m\u001b[0m\u001b[0m\n\u001b[1;32m    457\u001b[0m                 \u001b[0mj\u001b[0m \u001b[0;34m+=\u001b[0m \u001b[0;36m1\u001b[0m\u001b[0;34m\u001b[0m\u001b[0;34m\u001b[0m\u001b[0m\n\u001b[0;32m--> 458\u001b[0;31m                 \u001b[0;32mif\u001b[0m \u001b[0mtype\u001b[0m\u001b[0;34m(\u001b[0m\u001b[0mself\u001b[0m\u001b[0;34m.\u001b[0m\u001b[0mplayers\u001b[0m\u001b[0;34m[\u001b[0m\u001b[0mj\u001b[0m\u001b[0;34m]\u001b[0m\u001b[0;34m)\u001b[0m \u001b[0;34m==\u001b[0m \u001b[0mint\u001b[0m\u001b[0;34m:\u001b[0m\u001b[0;34m\u001b[0m\u001b[0;34m\u001b[0m\u001b[0m\n\u001b[0m\u001b[1;32m    459\u001b[0m                     \u001b[0mself\u001b[0m\u001b[0;34m.\u001b[0m\u001b[0mleading_zeros\u001b[0m \u001b[0;34m+=\u001b[0m \u001b[0;36m1\u001b[0m\u001b[0;34m\u001b[0m\u001b[0;34m\u001b[0m\u001b[0m\n\u001b[1;32m    460\u001b[0m                 \u001b[0;32melse\u001b[0m\u001b[0;34m:\u001b[0m\u001b[0;34m\u001b[0m\u001b[0;34m\u001b[0m\u001b[0m\n",
      "\u001b[0;31mIndexError\u001b[0m: index 60 is out of bounds for axis 0 with size 60"
     ]
    }
   ],
   "source": [
    "model.run(stop_at=1000)"
   ]
  },
  {
   "cell_type": "code",
   "execution_count": null,
   "metadata": {},
   "outputs": [],
   "source": [
    "from pygeneses.envs.prima_vita.env import save"
   ]
  },
  {
   "cell_type": "code",
   "execution_count": null,
   "metadata": {},
   "outputs": [],
   "source": [
    "save(model, \"model-100-two-ini-pop\")"
   ]
  },
  {
   "cell_type": "code",
   "execution_count": null,
   "metadata": {},
   "outputs": [],
   "source": []
  }
 ],
 "metadata": {
  "kernelspec": {
   "display_name": "Python 3",
   "language": "python",
   "name": "python3"
  },
  "language_info": {
   "codemirror_mode": {
    "name": "ipython",
    "version": 3
   },
   "file_extension": ".py",
   "mimetype": "text/x-python",
   "name": "python",
   "nbconvert_exporter": "python",
   "pygments_lexer": "ipython3",
   "version": "3.8.3"
  }
 },
 "nbformat": 4,
 "nbformat_minor": 4
}
