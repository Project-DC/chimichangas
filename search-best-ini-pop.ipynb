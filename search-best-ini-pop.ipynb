{
 "cells": [
  {
   "cell_type": "code",
   "execution_count": null,
   "metadata": {},
   "outputs": [],
   "source": [
    "from pygeneses.envs.prima_vita import PrimaVita"
   ]
  },
  {
   "cell_type": "code",
   "execution_count": null,
   "metadata": {
    "scrolled": true
   },
   "outputs": [],
   "source": [
    "initial_populations = [5]\n",
    "\n",
    "for initial_population in initial_populations:\n",
    "    print(\"-\" * 100)\n",
    "    print(\"Initial population:\", initial_population)\n",
    "    print(\"-\" * 100)\n",
    "    model = PrimaVita(initial_population=initial_population, log_dir_info=\"ini_pop_\" + str(initial_population))\n",
    "    model.run(stop_at=2000)"
   ]
  }
 ],
 "metadata": {
  "kernelspec": {
   "display_name": "Python 3",
   "language": "python",
   "name": "python3"
  },
  "language_info": {
   "codemirror_mode": {
    "name": "ipython",
    "version": 3
   },
   "file_extension": ".py",
   "mimetype": "text/x-python",
   "name": "python",
   "nbconvert_exporter": "python",
   "pygments_lexer": "ipython3",
   "version": "3.7.7"
  }
 },
 "nbformat": 4,
 "nbformat_minor": 4
}
