{
 "cells": [
  {
   "cell_type": "code",
   "execution_count": 5,
   "metadata": {},
   "outputs": [],
   "source": [
    "import numpy as np\n",
    "import os"
   ]
  },
  {
   "cell_type": "code",
   "execution_count": 2,
   "metadata": {},
   "outputs": [],
   "source": [
    "def load_npy(filename):\n",
    "    return np.load(filename, allow_pickle=True)"
   ]
  },
  {
   "cell_type": "code",
   "execution_count": 3,
   "metadata": {},
   "outputs": [],
   "source": [
    "path = \"/Users/frankhart/Downloads/Players_Data_initial_population/Players_Data_initial_population_50\""
   ]
  },
  {
   "cell_type": "code",
   "execution_count": 4,
   "metadata": {},
   "outputs": [],
   "source": [
    "agent_file = \"110-1385.npy\""
   ]
  },
  {
   "cell_type": "code",
   "execution_count": 28,
   "metadata": {},
   "outputs": [],
   "source": [
    "agent_full_path = os.path.join(path, agent_file)\n",
    "agent_data = load_npy(agent_full_path)"
   ]
  },
  {
   "cell_type": "code",
   "execution_count": 29,
   "metadata": {},
   "outputs": [
    {
     "data": {
      "text/plain": [
       "array([[693, 600],\n",
       "       [1215, 100]], dtype=object)"
      ]
     },
     "execution_count": 29,
     "metadata": {},
     "output_type": "execute_result"
    }
   ],
   "source": [
    "agent_data"
   ]
  },
  {
   "cell_type": "code",
   "execution_count": 67,
   "metadata": {},
   "outputs": [],
   "source": [
    "def get_parent(filename, ancestor_list):\n",
    "    global path\n",
    "    \n",
    "    agent_data = load_npy(os.path.join(path, filename))\n",
    "    \n",
    "    if(len(agent_data[1]) != 2):\n",
    "        return\n",
    "    else:\n",
    "        parents = agent_data[1]\n",
    "        if type(parents[0]) == list:\n",
    "            id_1, tob_1 = parents[0]\n",
    "            id_2, tob_2 = parents[1]\n",
    "            ancestor_list.append({\"parent_of\": filename, \"tob\": tob_1, \"id\": id_1})\n",
    "            get_parent(str(tob_1) + \"-\" + str(id_1) + \".npy\", ancestor_list)\n",
    "            ancestor_list.append({\"parent_of\": filename, \"tob\": tob_2, \"id\": id_2})\n",
    "            get_parent(str(tob_2) + \"-\" + str(id_2) + \".npy\", ancestor_list)\n",
    "        else:\n",
    "            id_1, tob_1 = parents\n",
    "            ancestor_list.append({\"parent_of\": filename, \"tob\": tob_1, \"id\": id_1})\n",
    "            get_parent(str(tob_1) + \"-\" + str(id_1) + \".npy\", ancestor_list)"
   ]
  },
  {
   "cell_type": "code",
   "execution_count": 14,
   "metadata": {},
   "outputs": [],
   "source": [
    "ancestor_list = []\n",
    "get_parent(agent_file, ancestor_list)"
   ]
  },
  {
   "cell_type": "code",
   "execution_count": 15,
   "metadata": {},
   "outputs": [
    {
     "data": {
      "text/plain": [
       "[{'parent_of': '110-1385.npy', 'tob': 100, 'id': 1215},\n",
       " {'parent_of': '100-1215.npy', 'tob': 90, 'id': 1063},\n",
       " {'parent_of': '90-1063.npy', 'tob': 80, 'id': 927},\n",
       " {'parent_of': '80-927.npy', 'tob': 70, 'id': 772},\n",
       " {'parent_of': '70-772.npy', 'tob': 60, 'id': 611},\n",
       " {'parent_of': '60-611.npy', 'tob': 50, 'id': 453},\n",
       " {'parent_of': '50-453.npy', 'tob': 40, 'id': 296},\n",
       " {'parent_of': '40-296.npy', 'tob': 30, 'id': 151},\n",
       " {'parent_of': '30-151.npy', 'tob': 20, 'id': 74},\n",
       " {'parent_of': '20-74.npy', 'tob': 10, 'id': 52},\n",
       " {'parent_of': '10-52.npy', 'tob': 0, 'id': 10}]"
      ]
     },
     "execution_count": 15,
     "metadata": {},
     "output_type": "execute_result"
    }
   ],
   "source": [
    "ancestor_list"
   ]
  },
  {
   "cell_type": "code",
   "execution_count": 32,
   "metadata": {},
   "outputs": [],
   "source": [
    "mock_agent_data = np.array([[693, 600], [[1215, 100], [1199, 100]]], dtype=object)"
   ]
  },
  {
   "cell_type": "code",
   "execution_count": 36,
   "metadata": {},
   "outputs": [],
   "source": [
    "np.save(os.path.join(path, 'test.npy'), mock_agent_data)"
   ]
  },
  {
   "cell_type": "code",
   "execution_count": 73,
   "metadata": {},
   "outputs": [
    {
     "data": {
      "text/plain": [
       "array([[693, 600],\n",
       "       [list([1215, 100]), list([1199, 100])]], dtype=object)"
      ]
     },
     "execution_count": 73,
     "metadata": {},
     "output_type": "execute_result"
    }
   ],
   "source": [
    "test_file = \"120-6969.npy\"\n",
    "test_agent_full_path = os.path.join(path, test_file)\n",
    "test_agent_data = load_npy(test_agent_full_path)\n",
    "test_agent_data"
   ]
  },
  {
   "cell_type": "code",
   "execution_count": 74,
   "metadata": {},
   "outputs": [
    {
     "data": {
      "text/plain": [
       "[{'parent_of': '120-6969.npy', 'tob': 100, 'id': 1215},\n",
       " {'parent_of': '100-1215.npy', 'tob': 90, 'id': 1063},\n",
       " {'parent_of': '90-1063.npy', 'tob': 80, 'id': 927},\n",
       " {'parent_of': '80-927.npy', 'tob': 70, 'id': 772},\n",
       " {'parent_of': '70-772.npy', 'tob': 60, 'id': 611},\n",
       " {'parent_of': '60-611.npy', 'tob': 50, 'id': 453},\n",
       " {'parent_of': '50-453.npy', 'tob': 40, 'id': 296},\n",
       " {'parent_of': '40-296.npy', 'tob': 30, 'id': 151},\n",
       " {'parent_of': '30-151.npy', 'tob': 20, 'id': 74},\n",
       " {'parent_of': '20-74.npy', 'tob': 10, 'id': 52},\n",
       " {'parent_of': '10-52.npy', 'tob': 0, 'id': 10},\n",
       " {'parent_of': '120-6969.npy', 'tob': 100, 'id': 1199},\n",
       " {'parent_of': '100-1199.npy', 'tob': 90, 'id': 1045},\n",
       " {'parent_of': '90-1045.npy', 'tob': 80, 'id': 913},\n",
       " {'parent_of': '80-913.npy', 'tob': 70, 'id': 756},\n",
       " {'parent_of': '70-756.npy', 'tob': 60, 'id': 596},\n",
       " {'parent_of': '60-596.npy', 'tob': 50, 'id': 427},\n",
       " {'parent_of': '50-427.npy', 'tob': 40, 'id': 273},\n",
       " {'parent_of': '40-273.npy', 'tob': 30, 'id': 138},\n",
       " {'parent_of': '30-138.npy', 'tob': 20, 'id': 70},\n",
       " {'parent_of': '20-70.npy', 'tob': 10, 'id': 51},\n",
       " {'parent_of': '10-51.npy', 'tob': 0, 'id': 10}]"
      ]
     },
     "execution_count": 74,
     "metadata": {},
     "output_type": "execute_result"
    }
   ],
   "source": [
    "ancestor_list_test = []\n",
    "get_parent(test_file, ancestor_list_test)\n",
    "ancestor_list_test"
   ]
  },
  {
   "cell_type": "code",
   "execution_count": 75,
   "metadata": {},
   "outputs": [
    {
     "data": {
      "text/plain": [
       "[{'parent_of': '120-6969.npy', 'tob': 100, 'id': 1215},\n",
       " {'parent_of': '120-6969.npy', 'tob': 100, 'id': 1199},\n",
       " {'parent_of': '100-1215.npy', 'tob': 90, 'id': 1063},\n",
       " {'parent_of': '100-1199.npy', 'tob': 90, 'id': 1045},\n",
       " {'parent_of': '90-1063.npy', 'tob': 80, 'id': 927},\n",
       " {'parent_of': '90-1045.npy', 'tob': 80, 'id': 913},\n",
       " {'parent_of': '80-927.npy', 'tob': 70, 'id': 772},\n",
       " {'parent_of': '80-913.npy', 'tob': 70, 'id': 756},\n",
       " {'parent_of': '70-772.npy', 'tob': 60, 'id': 611},\n",
       " {'parent_of': '70-756.npy', 'tob': 60, 'id': 596},\n",
       " {'parent_of': '60-611.npy', 'tob': 50, 'id': 453},\n",
       " {'parent_of': '60-596.npy', 'tob': 50, 'id': 427},\n",
       " {'parent_of': '50-453.npy', 'tob': 40, 'id': 296},\n",
       " {'parent_of': '50-427.npy', 'tob': 40, 'id': 273},\n",
       " {'parent_of': '40-296.npy', 'tob': 30, 'id': 151},\n",
       " {'parent_of': '40-273.npy', 'tob': 30, 'id': 138},\n",
       " {'parent_of': '30-151.npy', 'tob': 20, 'id': 74},\n",
       " {'parent_of': '30-138.npy', 'tob': 20, 'id': 70},\n",
       " {'parent_of': '20-74.npy', 'tob': 10, 'id': 52},\n",
       " {'parent_of': '20-70.npy', 'tob': 10, 'id': 51},\n",
       " {'parent_of': '10-52.npy', 'tob': 0, 'id': 10},\n",
       " {'parent_of': '10-51.npy', 'tob': 0, 'id': 10}]"
      ]
     },
     "execution_count": 75,
     "metadata": {},
     "output_type": "execute_result"
    }
   ],
   "source": [
    "newlist = sorted(ancestor_list_test, key=lambda k: int(k['parent_of'].split('-')[0]), reverse=True)\n",
    "newlist"
   ]
  },
  {
   "cell_type": "code",
   "execution_count": null,
   "metadata": {},
   "outputs": [],
   "source": []
  }
 ],
 "metadata": {
  "kernelspec": {
   "display_name": "Python 3",
   "language": "python",
   "name": "python3"
  },
  "language_info": {
   "codemirror_mode": {
    "name": "ipython",
    "version": 3
   },
   "file_extension": ".py",
   "mimetype": "text/x-python",
   "name": "python",
   "nbconvert_exporter": "python",
   "pygments_lexer": "ipython3",
   "version": "3.7.4"
  }
 },
 "nbformat": 4,
 "nbformat_minor": 2
}
