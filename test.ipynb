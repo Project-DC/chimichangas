{
 "cells": [
  {
   "cell_type": "code",
   "execution_count": null,
   "metadata": {
    "scrolled": true
   },
   "outputs": [],
   "source": [
    "from pygeneses.envs.prima_vita import PrimaVita\n",
    "\n",
    "params_dic = {\"initial_population\": 30, \"state_size\": 32, \"speed\": 10, \"model_updates\": 5}\n",
    "\n",
    "model = PrimaVita(mode=\"bot\", log_dir_info=\"test\", params_dic=params_dic)\n",
    "\n",
    "model.run(stop_at=2000)"
   ]
  },
  {
   "cell_type": "code",
   "execution_count": null,
   "metadata": {},
   "outputs": [],
   "source": []
  }
 ],
 "metadata": {
  "kernelspec": {
   "display_name": "Python 3",
   "language": "python",
   "name": "python3"
  },
  "language_info": {
   "codemirror_mode": {
    "name": "ipython",
    "version": 3
   },
   "file_extension": ".py",
   "mimetype": "text/x-python",
   "name": "python",
   "nbconvert_exporter": "python",
   "pygments_lexer": "ipython3",
   "version": "3.7.4"
  }
 },
 "nbformat": 4,
 "nbformat_minor": 2
}
