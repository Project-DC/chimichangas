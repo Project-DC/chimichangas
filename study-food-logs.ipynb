{
 "cells": [
  {
   "cell_type": "code",
   "execution_count": 1,
   "metadata": {},
   "outputs": [],
   "source": [
    "import numpy as np\n",
    "import glob"
   ]
  },
  {
   "cell_type": "code",
   "execution_count": 2,
   "metadata": {},
   "outputs": [],
   "source": [
    "logs = glob.glob(\"Players_Data_teach_ingestion/*.npy\")"
   ]
  },
  {
   "cell_type": "code",
   "execution_count": 3,
   "metadata": {},
   "outputs": [],
   "source": [
    "ingested = []\n",
    "ingested_successfully = []\n",
    "\n",
    "for log in logs:\n",
    "    logdata = np.load(log, allow_pickle=True)\n",
    "    for logval in logdata:\n",
    "        if len(logval) > 2 and logval[0] == 9:\n",
    "            ingested.append(log)\n",
    "            if logval[2] == 100:\n",
    "                ingested_successfully.append(log)\n",
    "                \n",
    "ingested = list(set(ingested))\n",
    "ingested_successfully = list(set(ingested_successfully))"
   ]
  },
  {
   "cell_type": "code",
   "execution_count": 4,
   "metadata": {},
   "outputs": [
    {
     "data": {
      "text/plain": [
       "(417, 97)"
      ]
     },
     "execution_count": 4,
     "metadata": {},
     "output_type": "execute_result"
    }
   ],
   "source": [
    "len(ingested), len(ingested_successfully)"
   ]
  },
  {
   "cell_type": "code",
   "execution_count": 5,
   "metadata": {},
   "outputs": [],
   "source": [
    "ingested_successfully = sorted(ingested_successfully, key=lambda x: int(x.split(\"/\")[1].split(\"-\")[0]))"
   ]
  },
  {
   "cell_type": "code",
   "execution_count": 6,
   "metadata": {
    "scrolled": false
   },
   "outputs": [
    {
     "data": {
      "text/plain": [
       "['Players_Data_teach_ingestion/0-7.npy',\n",
       " 'Players_Data_teach_ingestion/18-10.npy',\n",
       " 'Players_Data_teach_ingestion/19-17.npy',\n",
       " 'Players_Data_teach_ingestion/19-18.npy',\n",
       " 'Players_Data_teach_ingestion/19-19.npy',\n",
       " 'Players_Data_teach_ingestion/38-33.npy',\n",
       " 'Players_Data_teach_ingestion/39-42.npy',\n",
       " 'Players_Data_teach_ingestion/41-47.npy',\n",
       " 'Players_Data_teach_ingestion/41-45.npy',\n",
       " 'Players_Data_teach_ingestion/41-50.npy',\n",
       " 'Players_Data_teach_ingestion/42-55.npy',\n",
       " 'Players_Data_teach_ingestion/43-61.npy',\n",
       " 'Players_Data_teach_ingestion/43-60.npy',\n",
       " 'Players_Data_teach_ingestion/44-70.npy',\n",
       " 'Players_Data_teach_ingestion/47-88.npy',\n",
       " 'Players_Data_teach_ingestion/48-101.npy',\n",
       " 'Players_Data_teach_ingestion/48-107.npy',\n",
       " 'Players_Data_teach_ingestion/49-120.npy',\n",
       " 'Players_Data_teach_ingestion/49-128.npy',\n",
       " 'Players_Data_teach_ingestion/49-139.npy',\n",
       " 'Players_Data_teach_ingestion/49-119.npy',\n",
       " 'Players_Data_teach_ingestion/50-151.npy',\n",
       " 'Players_Data_teach_ingestion/50-159.npy',\n",
       " 'Players_Data_teach_ingestion/50-161.npy',\n",
       " 'Players_Data_teach_ingestion/50-157.npy',\n",
       " 'Players_Data_teach_ingestion/51-177.npy',\n",
       " 'Players_Data_teach_ingestion/51-175.npy',\n",
       " 'Players_Data_teach_ingestion/51-168.npy',\n",
       " 'Players_Data_teach_ingestion/52-190.npy',\n",
       " 'Players_Data_teach_ingestion/52-188.npy',\n",
       " 'Players_Data_teach_ingestion/54-198.npy',\n",
       " 'Players_Data_teach_ingestion/55-209.npy',\n",
       " 'Players_Data_teach_ingestion/55-210.npy',\n",
       " 'Players_Data_teach_ingestion/57-230.npy',\n",
       " 'Players_Data_teach_ingestion/58-237.npy',\n",
       " 'Players_Data_teach_ingestion/59-263.npy',\n",
       " 'Players_Data_teach_ingestion/60-278.npy',\n",
       " 'Players_Data_teach_ingestion/61-309.npy',\n",
       " 'Players_Data_teach_ingestion/61-306.npy',\n",
       " 'Players_Data_teach_ingestion/61-289.npy',\n",
       " 'Players_Data_teach_ingestion/61-285.npy',\n",
       " 'Players_Data_teach_ingestion/62-310.npy',\n",
       " 'Players_Data_teach_ingestion/64-357.npy',\n",
       " 'Players_Data_teach_ingestion/64-353.npy',\n",
       " 'Players_Data_teach_ingestion/64-358.npy',\n",
       " 'Players_Data_teach_ingestion/65-363.npy',\n",
       " 'Players_Data_teach_ingestion/66-386.npy',\n",
       " 'Players_Data_teach_ingestion/66-388.npy',\n",
       " 'Players_Data_teach_ingestion/66-399.npy',\n",
       " 'Players_Data_teach_ingestion/66-397.npy',\n",
       " 'Players_Data_teach_ingestion/66-380.npy',\n",
       " 'Players_Data_teach_ingestion/67-403.npy',\n",
       " 'Players_Data_teach_ingestion/68-410.npy',\n",
       " 'Players_Data_teach_ingestion/69-428.npy',\n",
       " 'Players_Data_teach_ingestion/70-477.npy',\n",
       " 'Players_Data_teach_ingestion/71-479.npy',\n",
       " 'Players_Data_teach_ingestion/71-498.npy',\n",
       " 'Players_Data_teach_ingestion/71-492.npy',\n",
       " 'Players_Data_teach_ingestion/71-481.npy',\n",
       " 'Players_Data_teach_ingestion/71-499.npy',\n",
       " 'Players_Data_teach_ingestion/71-487.npy',\n",
       " 'Players_Data_teach_ingestion/72-517.npy',\n",
       " 'Players_Data_teach_ingestion/72-510.npy',\n",
       " 'Players_Data_teach_ingestion/73-522.npy',\n",
       " 'Players_Data_teach_ingestion/73-532.npy',\n",
       " 'Players_Data_teach_ingestion/77-575.npy',\n",
       " 'Players_Data_teach_ingestion/77-587.npy',\n",
       " 'Players_Data_teach_ingestion/78-602.npy',\n",
       " 'Players_Data_teach_ingestion/82-658.npy',\n",
       " 'Players_Data_teach_ingestion/85-669.npy',\n",
       " 'Players_Data_teach_ingestion/88-704.npy',\n",
       " 'Players_Data_teach_ingestion/88-738.npy',\n",
       " 'Players_Data_teach_ingestion/88-730.npy',\n",
       " 'Players_Data_teach_ingestion/89-745.npy',\n",
       " 'Players_Data_teach_ingestion/89-753.npy',\n",
       " 'Players_Data_teach_ingestion/98-871.npy',\n",
       " 'Players_Data_teach_ingestion/99-896.npy',\n",
       " 'Players_Data_teach_ingestion/100-906.npy',\n",
       " 'Players_Data_teach_ingestion/103-993.npy',\n",
       " 'Players_Data_teach_ingestion/103-991.npy',\n",
       " 'Players_Data_teach_ingestion/104-1027.npy',\n",
       " 'Players_Data_teach_ingestion/110-1131.npy',\n",
       " 'Players_Data_teach_ingestion/110-1130.npy',\n",
       " 'Players_Data_teach_ingestion/112-1162.npy',\n",
       " 'Players_Data_teach_ingestion/112-1164.npy',\n",
       " 'Players_Data_teach_ingestion/112-1159.npy',\n",
       " 'Players_Data_teach_ingestion/114-1192.npy',\n",
       " 'Players_Data_teach_ingestion/114-1204.npy',\n",
       " 'Players_Data_teach_ingestion/114-1198.npy',\n",
       " 'Players_Data_teach_ingestion/115-1210.npy',\n",
       " 'Players_Data_teach_ingestion/117-1260.npy',\n",
       " 'Players_Data_teach_ingestion/124-1387.npy',\n",
       " 'Players_Data_teach_ingestion/126-1409.npy',\n",
       " 'Players_Data_teach_ingestion/131-1554.npy',\n",
       " 'Players_Data_teach_ingestion/131-1555.npy',\n",
       " 'Players_Data_teach_ingestion/131-1551.npy',\n",
       " 'Players_Data_teach_ingestion/145-1808.npy']"
      ]
     },
     "execution_count": 6,
     "metadata": {},
     "output_type": "execute_result"
    }
   ],
   "source": [
    "ingested_successfully"
   ]
  },
  {
   "cell_type": "code",
   "execution_count": 8,
   "metadata": {},
   "outputs": [
    {
     "name": "stdout",
     "output_type": "stream",
     "text": [
      "[240, 572]\n",
      "[746  89]\n",
      "[10 101 -50 199 -1 array(-1) 240 572\n",
      " array([array([-47, -59, -9, -15], dtype=object),\n",
      "       array([-27, 81, 1, -57, 32, 2, 78, 57, 2, 75, -43, 2, 32, 79, 1, 40, 88,\n",
      "       1], dtype=object)], dtype=object)]\n",
      "[10 102 -50 198 -1 array(-1) 240 572\n",
      " array([array([-47, -59, -9, -15], dtype=object),\n",
      "       array([-27, 81, 1, -59.12132034355966, 34.12132034355966, 2, 75, -43, 2,\n",
      "       32, 79, 1, 40, 88, 1, -55, 39, 1, 60, 7, 1], dtype=object)],\n",
      "      dtype=object)]\n",
      "[12 103 -50 197 -1 240 572\n",
      " array([array([-47, -59, -9, -15], dtype=object),\n",
      "       array([-27, 81, 1, -59.12132034355966, 34.12132034355966, 2, 75, -43, 2,\n",
      "       40, 88, 1, -55, 39, 1, 60, 7, 1, -89, -13, 2], dtype=object)],\n",
      "      dtype=object)]\n",
      "[10 104 -50 196 -1 array(-1) 240 572\n",
      " array([array([-47, -59, -9, -15], dtype=object),\n",
      "       array([-29.12132034355966, 83.12132034355966, 1, -56.12132034355966,\n",
      "       34.12132034355966, 2, 75, -43, 2, 40, 88, 1, 60, 7, 1, -47, 86, 1,\n",
      "       85, -36, 1, 33, -62, 2], dtype=object)], dtype=object)]\n",
      "[10 105 -50 195 -1 array(-1) 240 572\n",
      " array([array([-47, -59, -9, -15], dtype=object),\n",
      "       array([-29.12132034355966, 83.12132034355966, 1, -56.12132034355966,\n",
      "       34.12132034355966, 2, 75, -43, 2, 40, 88, 1, 60, 7, 1, -47, 86, 1,\n",
      "       85, -36, 1, 33, -62, 2], dtype=object)], dtype=object)]\n",
      "[10 106 -50 194 -1 array(-1) 240 572\n",
      " array([array([-47, -59, -9, -15], dtype=object),\n",
      "       array([-29.12132034355966, 83.12132034355966, 1, -53.12132034355966,\n",
      "       34.12132034355966, 2, 75, -43, 2, 40, 88, 1, 60, 7, 1, -44, 86, 1,\n",
      "       85, -36, 1, 33, -62, 2], dtype=object)], dtype=object)]\n",
      "[10 107 -50 193 -1 array(-1) 240 572\n",
      " array([array([-47, -59, -9, -15], dtype=object),\n",
      "       array([-29.12132034355966, 83.12132034355966, 1, -50.12132034355966,\n",
      "       34.12132034355966, 2, 75, -43, 2, 40, 88, 1, 60, 7, 1, -41, 86, 1,\n",
      "       85, -36, 1, 33, -62, 2], dtype=object)], dtype=object)]\n",
      "[10 108 -50 192 -1 array(-1) 240 572\n",
      " array([array([-47, -59, -9, -15], dtype=object),\n",
      "       array([-29.12132034355966, 83.12132034355966, 1, -47.12132034355966,\n",
      "       34.12132034355966, 2, 75, -43, 2, 60, 7, 1, -38, 86, 1, 33, -62, 2,\n",
      "       20, -30, 2, 96, -10, 2], dtype=object)], dtype=object)]\n",
      "[10 109 -50 191 -1 array(-1) 240 572\n",
      " array([array([-47, -59, -9, -15], dtype=object),\n",
      "       array([-47.12132034355966, 34.12132034355966, 2, 75, -43, 2, 60, 7, 1,\n",
      "       -35, 86, 1, 33, -62, 2, 20, -30, 2, 96, -10, 2], dtype=object)],\n",
      "      dtype=object)]\n",
      "[10 110 -50 191 6 array([1130, 1131, 1132, 1133, 1134, 1135]) 240 572\n",
      " array([array([-47, -59, -9, -15], dtype=object),\n",
      "       array([-49.24264068711932, 36.24264068711932, 2, 75, -43, 2, 60, 7, 1,\n",
      "       -32, 86, 1, 33, -62, 2, 20, -30, 2, 96, -10, 2, -72, 59, 2],\n",
      "      dtype=object)], dtype=object)]\n",
      "[10 111 -50 191 2 array([1141, 1142]) 240 572\n",
      " array([array([-47, -59, -9, -15], dtype=object),\n",
      "       array([-51.36396103067898, 38.36396103067898, 2, 75, -46, 2, 60, 7, 1,\n",
      "       -32, 86, 1, 33, -62, 2, 99, -10, 2, -72, 59, 2], dtype=object)],\n",
      "      dtype=object)]\n",
      "[10 112 -50 191 2 array([1163, 1164]) 240 572\n",
      " array([array([-47, -59, -9, -15], dtype=object),\n",
      "       array([-48.36396103067898, 38.36396103067898, 2, 75, -46, 2, 60, 7, 1,\n",
      "       -32, 86, 1, 33, -62, 2, -72, 59, 2], dtype=object)], dtype=object)]\n",
      "[10 113 -50 191 6 array([1186, 1187, 1188, 1189, 1190, 1191]) 240 572\n",
      " array([array([-47, -59, -9, -15], dtype=object),\n",
      "       array([-50.48528137423864, 40.48528137423864, 2, -32, 86, 1, 33, -62, 2],\n",
      "      dtype=object)], dtype=object)]\n",
      "[10 114 -50 191 4 array([1200, 1201, 1202, 1203]) 240 572\n",
      " array([array([-47, -59, -9, -15], dtype=object),\n",
      "       array([-50.48528137423864, 40.48528137423864, 2, -32, 86, 1, 33, -62, 2],\n",
      "      dtype=object)], dtype=object)]\n"
     ]
    }
   ],
   "source": [
    "log = np.load(\"Players_Data_teach_ingestion/100-912.npy\", allow_pickle=True)\n",
    "\n",
    "for x in log:\n",
    "    print(x)"
   ]
  },
  {
   "cell_type": "code",
   "execution_count": null,
   "metadata": {},
   "outputs": [],
   "source": []
  }
 ],
 "metadata": {
  "kernelspec": {
   "display_name": "Python 3",
   "language": "python",
   "name": "python3"
  },
  "language_info": {
   "codemirror_mode": {
    "name": "ipython",
    "version": 3
   },
   "file_extension": ".py",
   "mimetype": "text/x-python",
   "name": "python",
   "nbconvert_exporter": "python",
   "pygments_lexer": "ipython3",
   "version": "3.8.3"
  }
 },
 "nbformat": 4,
 "nbformat_minor": 4
}
