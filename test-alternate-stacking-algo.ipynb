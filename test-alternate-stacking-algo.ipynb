{
 "cells": [
  {
   "cell_type": "code",
   "execution_count": 27,
   "metadata": {},
   "outputs": [],
   "source": [
    "env_food_vector = [1, 2]\n",
    "env_player_vector = [5, 6, 7, 8, 9, 10, 13, 14, 15]"
   ]
  },
  {
   "cell_type": "code",
   "execution_count": 28,
   "metadata": {},
   "outputs": [],
   "source": [
    "num_food_particles = len(env_food_vector) // 2\n",
    "num_players = len(env_player_vector) // 3"
   ]
  },
  {
   "cell_type": "code",
   "execution_count": 29,
   "metadata": {},
   "outputs": [
    {
     "name": "stdout",
     "output_type": "stream",
     "text": [
      "3\n"
     ]
    }
   ],
   "source": [
    "max_count = max(num_food_particles, num_players)\n",
    "print(max_count)"
   ]
  },
  {
   "cell_type": "code",
   "execution_count": 30,
   "metadata": {},
   "outputs": [
    {
     "name": "stdout",
     "output_type": "stream",
     "text": [
      "[[1, 2], [5, 6, 7], [0, 0], [8, 9, 10], [0, 0], [13, 14, 15]]\n",
      "[1, 2, 5, 6, 7, 0, 0, 8, 9, 10, 0, 0, 13, 14, 15]\n"
     ]
    }
   ],
   "source": [
    "temp_state = []\n",
    "i = 0\n",
    "\n",
    "while(i < max_count):\n",
    "    if i < num_food_particles:\n",
    "        temp_state.append(env_food_vector[(i*2):(i*2+2)])\n",
    "    else:\n",
    "        temp_state.append([0, 0])\n",
    "\n",
    "    if i < num_players:\n",
    "        temp_state.append(env_player_vector[(i*3):(i*3+3)])\n",
    "    else:\n",
    "        temp_state.append([0, 0, 0])\n",
    "    i += 1\n",
    "    \n",
    "print(temp_state)\n",
    "temp_state = sum(temp_state, [])\n",
    "print(temp_state)"
   ]
  },
  {
   "cell_type": "code",
   "execution_count": null,
   "metadata": {},
   "outputs": [],
   "source": []
  }
 ],
 "metadata": {
  "kernelspec": {
   "display_name": "Python 3",
   "language": "python",
   "name": "python3"
  },
  "language_info": {
   "codemirror_mode": {
    "name": "ipython",
    "version": 3
   },
   "file_extension": ".py",
   "mimetype": "text/x-python",
   "name": "python",
   "nbconvert_exporter": "python",
   "pygments_lexer": "ipython3",
   "version": "3.8.3"
  }
 },
 "nbformat": 4,
 "nbformat_minor": 4
}
