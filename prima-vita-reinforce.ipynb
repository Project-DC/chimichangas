{
 "cells": [
  {
   "cell_type": "code",
   "execution_count": 1,
   "metadata": {},
   "outputs": [],
   "source": [
    "# import os\n",
    "\n",
    "# os.putenv('SDL_VIDEODRIVER', 'fbcon')\n",
    "# os.environ[\"SDL_VIDEODRIVER\"] = \"dummy\""
   ]
  },
  {
   "cell_type": "code",
   "execution_count": 2,
   "metadata": {},
   "outputs": [
    {
     "name": "stdout",
     "output_type": "stream",
     "text": [
      "pygame 1.9.6\n",
      "Hello from the pygame community. https://www.pygame.org/contribute.html\n"
     ]
    }
   ],
   "source": [
    "from sklearn.cluster import DBSCAN\n",
    "\n",
    "from pygeneses.envs.prima_vita import PrimaVita"
   ]
  },
  {
   "cell_type": "code",
   "execution_count": 3,
   "metadata": {},
   "outputs": [],
   "source": [
    "rl_model = PrimaVita()"
   ]
  },
  {
   "cell_type": "code",
   "execution_count": 4,
   "metadata": {},
   "outputs": [],
   "source": [
    "def training_loop(n_episodes=1000, max_t=1000, gamma=1.0, print_every=100):\n",
    "    rl_model.init()\n",
    "    \n",
    "    states = rl_model.get_current_state()\n",
    "    \n",
    "    running = True\n",
    "    while running:\n",
    "        data = []\n",
    "        rl_model.update_time()\n",
    "        for i, agent in enumerate(rl_model.model.agents):\n",
    "            data.append([rl_model.players[i].playerX, rl_model.players[i].playerY])\n",
    "            \n",
    "        labels = DBSCAN(eps=100, min_samples=2).fit(data).labels_\n",
    "        print(labels)\n",
    "        \n",
    "        if(rl_model.time == 2):\n",
    "            break\n",
    "        \n",
    "        for i, agent in enumerate(rl_model.model.agents):\n",
    "            if(type(rl_model.players[i]) != int):\n",
    "                rl_model.take_action(i, states[i])\n",
    "        4        \n",
    "                states = rl_model.get_current_state()\n",
    "                if(type(states) == int and states == -1):\n",
    "                    running = False"
   ]
  },
  {
   "cell_type": "code",
   "execution_count": 5,
   "metadata": {
    "scrolled": false
   },
   "outputs": [
    {
     "name": "stdout",
     "output_type": "stream",
     "text": [
      "[-1 -1  0 -1 -1  1  0 -1  1  0]\n",
      "[-1 -1  0 -1 -1  1  0 -1  1  0]\n",
      "[-1 -1  0 -1 -1  1  0 -1  1  0]\n"
     ]
    }
   ],
   "source": [
    "training_loop()"
   ]
  }
 ],
 "metadata": {
  "kernelspec": {
   "display_name": "Python 3",
   "language": "python",
   "name": "python3"
  },
  "language_info": {
   "codemirror_mode": {
    "name": "ipython",
    "version": 3
   },
   "file_extension": ".py",
   "mimetype": "text/x-python",
   "name": "python",
   "nbconvert_exporter": "python",
   "pygments_lexer": "ipython3",
   "version": "3.7.4"
  }
 },
 "nbformat": 4,
 "nbformat_minor": 2
}
