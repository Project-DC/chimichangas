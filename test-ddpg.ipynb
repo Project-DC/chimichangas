{
 "cells": [
  {
   "cell_type": "code",
   "execution_count": 1,
   "metadata": {},
   "outputs": [
    {
     "name": "stdout",
     "output_type": "stream",
     "text": [
      "pygame 1.9.6\n",
      "Hello from the pygame community. https://www.pygame.org/contribute.html\n"
     ]
    }
   ],
   "source": [
    "from pygeneses.envs.prima_vita import PrimaVita"
   ]
  },
  {
   "cell_type": "code",
   "execution_count": 2,
   "metadata": {},
   "outputs": [],
   "source": [
    "params_dic = {\"initial_population\": 30, \"state_size\": 32, \"speed\": 10}\n",
    "\n",
    "model = PrimaVita(mode=\"human\", log_dir_info=\"ddpg_more_punish\", params_dic=params_dic)"
   ]
  },
  {
   "cell_type": "code",
   "execution_count": null,
   "metadata": {
    "scrolled": true
   },
   "outputs": [
    {
     "name": "stdout",
     "output_type": "stream",
     "text": [
      "Asexual reproduction\n",
      "RIP 0-26, died at age 10, alive count = 30\n",
      "Asexual reproduction\n",
      "RIP 0-1, died at age 11, alive count = 37\n",
      "Asexual reproduction\n",
      "RIP 0-5, died at age 12, alive count = 44\n",
      "Asexual reproduction\n",
      "RIP 0-20, died at age 12, alive count = 51\n",
      "Asexual reproduction\n",
      "RIP 0-12, died at age 13, alive count = 58\n",
      "Asexual reproduction\n",
      "RIP 0-16, died at age 13, alive count = 65\n",
      "Asexual reproduction\n",
      "RIP 0-24, died at age 13, alive count = 72\n"
     ]
    }
   ],
   "source": [
    "model.run(stop_at=10000)"
   ]
  },
  {
   "cell_type": "code",
   "execution_count": null,
   "metadata": {},
   "outputs": [],
   "source": [
    "# from pygeneses.envs.prima_vita.env import save\n",
    "\n",
    "# save(model, \"ddpg_test_more_punish\")"
   ]
  }
 ],
 "metadata": {
  "kernelspec": {
   "display_name": "Python 3",
   "language": "python",
   "name": "python3"
  },
  "language_info": {
   "codemirror_mode": {
    "name": "ipython",
    "version": 3
   },
   "file_extension": ".py",
   "mimetype": "text/x-python",
   "name": "python",
   "nbconvert_exporter": "python",
   "pygments_lexer": "ipython3",
   "version": "3.7.4"
  }
 },
 "nbformat": 4,
 "nbformat_minor": 2
}
