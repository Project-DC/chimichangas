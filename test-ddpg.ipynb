{
 "cells": [
  {
   "cell_type": "code",
   "execution_count": 1,
   "metadata": {},
   "outputs": [
    {
     "name": "stdout",
     "output_type": "stream",
     "text": [
      "pygame 1.9.6\n",
      "Hello from the pygame community. https://www.pygame.org/contribute.html\n"
     ]
    }
   ],
   "source": [
    "from pygeneses.envs.prima_vita import PrimaVita"
   ]
  },
  {
   "cell_type": "code",
   "execution_count": 2,
   "metadata": {},
   "outputs": [],
   "source": [
    "model = PrimaVita(mode=\"human\")"
   ]
  },
  {
   "cell_type": "code",
   "execution_count": 3,
   "metadata": {},
   "outputs": [
    {
     "name": "stdout",
     "output_type": "stream",
     "text": [
      "RIP 0-8, alive count = 10\n",
      "RIP 0-3, alive count = 13\n",
      "RIP 0-1, alive count = 20\n",
      "RIP 0-6, alive count = 25\n",
      "RIP 10-12, alive count = 28\n",
      "RIP 11-16, alive count = 32\n",
      "RIP 11-15, alive count = 37\n",
      "RIP 0-2, alive count = 38\n",
      "RIP 0-4, alive count = 38\n",
      "RIP 0-5, alive count = 38\n",
      "RIP 0-7, alive count = 38\n",
      "RIP 0-9, alive count = 38\n",
      "RIP 10-10, alive count = 33\n",
      "RIP 10-11, alive count = 33\n",
      "RIP 10-13, alive count = 33\n",
      "RIP 11-14, alive count = 30\n",
      "RIP 11-17, alive count = 30\n",
      "RIP 11-18, alive count = 30\n",
      "RIP 11-19, alive count = 30\n",
      "RIP 11-20, alive count = 30\n",
      "RIP 11-21, alive count = 30\n",
      "RIP 13-22, alive count = 24\n",
      "RIP 13-23, alive count = 24\n",
      "RIP 13-24, alive count = 24\n",
      "RIP 13-25, alive count = 24\n",
      "RIP 13-26, alive count = 24\n",
      "RIP 13-27, alive count = 24\n",
      "RIP 14-28, alive count = 18\n",
      "RIP 14-29, alive count = 18\n",
      "RIP 14-30, alive count = 18\n",
      "RIP 14-31, alive count = 18\n",
      "RIP 21-32, alive count = 14\n",
      "RIP 21-33, alive count = 14\n",
      "RIP 21-34, alive count = 14\n",
      "RIP 21-35, alive count = 14\n",
      "RIP 21-36, alive count = 14\n",
      "RIP 21-37, alive count = 14\n",
      "RIP 21-38, alive count = 14\n",
      "RIP 21-39, alive count = 14\n",
      "RIP 21-40, alive count = 14\n",
      "RIP 21-41, alive count = 14\n",
      "RIP 21-42, alive count = 14\n",
      "RIP 22-43, alive count = 3\n",
      "RIP 22-44, alive count = 3\n"
     ]
    },
    {
     "ename": "IndexError",
     "evalue": "index 45 is out of bounds for axis 0 with size 45",
     "output_type": "error",
     "traceback": [
      "\u001b[0;31m---------------------------------------------------------------------------\u001b[0m",
      "\u001b[0;31mIndexError\u001b[0m                                Traceback (most recent call last)",
      "\u001b[0;32m<ipython-input-3-35af80d4d8c4>\u001b[0m in \u001b[0;36m<module>\u001b[0;34m\u001b[0m\n\u001b[0;32m----> 1\u001b[0;31m \u001b[0mmodel\u001b[0m\u001b[0;34m.\u001b[0m\u001b[0mrun\u001b[0m\u001b[0;34m(\u001b[0m\u001b[0mstop_at\u001b[0m\u001b[0;34m=\u001b[0m\u001b[0;36m2000\u001b[0m\u001b[0;34m)\u001b[0m\u001b[0;34m\u001b[0m\u001b[0;34m\u001b[0m\u001b[0m\n\u001b[0m",
      "\u001b[0;32m~/Desktop/oss/project-dc/pygeneses/pygeneses/envs/prima_vita/prima_vita.py\u001b[0m in \u001b[0;36mrun\u001b[0;34m(self, stop_at)\u001b[0m\n\u001b[1;32m    460\u001b[0m             \u001b[0;32mwhile\u001b[0m \u001b[0;32mTrue\u001b[0m\u001b[0;34m:\u001b[0m\u001b[0;34m\u001b[0m\u001b[0;34m\u001b[0m\u001b[0m\n\u001b[1;32m    461\u001b[0m                 \u001b[0mj\u001b[0m \u001b[0;34m+=\u001b[0m \u001b[0;36m1\u001b[0m\u001b[0;34m\u001b[0m\u001b[0;34m\u001b[0m\u001b[0m\n\u001b[0;32m--> 462\u001b[0;31m                 \u001b[0;32mif\u001b[0m \u001b[0mtype\u001b[0m\u001b[0;34m(\u001b[0m\u001b[0mself\u001b[0m\u001b[0;34m.\u001b[0m\u001b[0mplayers\u001b[0m\u001b[0;34m[\u001b[0m\u001b[0mj\u001b[0m\u001b[0;34m]\u001b[0m\u001b[0;34m)\u001b[0m \u001b[0;34m==\u001b[0m \u001b[0mint\u001b[0m\u001b[0;34m:\u001b[0m\u001b[0;34m\u001b[0m\u001b[0;34m\u001b[0m\u001b[0m\n\u001b[0m\u001b[1;32m    463\u001b[0m                     \u001b[0mself\u001b[0m\u001b[0;34m.\u001b[0m\u001b[0mleading_zeros\u001b[0m \u001b[0;34m+=\u001b[0m \u001b[0;36m1\u001b[0m\u001b[0;34m\u001b[0m\u001b[0;34m\u001b[0m\u001b[0m\n\u001b[1;32m    464\u001b[0m                 \u001b[0;32melse\u001b[0m\u001b[0;34m:\u001b[0m\u001b[0;34m\u001b[0m\u001b[0;34m\u001b[0m\u001b[0m\n",
      "\u001b[0;31mIndexError\u001b[0m: index 45 is out of bounds for axis 0 with size 45"
     ]
    }
   ],
   "source": [
    "model.run(stop_at=2000)"
   ]
  },
  {
   "cell_type": "code",
   "execution_count": null,
   "metadata": {},
   "outputs": [],
   "source": []
  }
 ],
 "metadata": {
  "kernelspec": {
   "display_name": "Python 3",
   "language": "python",
   "name": "python3"
  },
  "language_info": {
   "codemirror_mode": {
    "name": "ipython",
    "version": 3
   },
   "file_extension": ".py",
   "mimetype": "text/x-python",
   "name": "python",
   "nbconvert_exporter": "python",
   "pygments_lexer": "ipython3",
   "version": "3.7.4"
  }
 },
 "nbformat": 4,
 "nbformat_minor": 2
}
